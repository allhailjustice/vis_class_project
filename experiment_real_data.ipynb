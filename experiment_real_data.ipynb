{
 "cells": [
  {
   "cell_type": "code",
   "execution_count": 1,
   "metadata": {},
   "outputs": [],
   "source": [
    "from os import listdir\n",
    "from os.path import join\n",
    "import scipy.io as sio\n",
    "import numpy as np\n",
    "import networkx as nx\n",
    "# from scipy.linalg import block_diag"
   ]
  },
  {
   "cell_type": "code",
   "execution_count": 2,
   "metadata": {},
   "outputs": [],
   "source": [
    "files_path = r\"C:\\F\\Work\\Visualization\\ssget\\mat\"\n",
    "files = [join(files_path,f) for f in listdir(files_path)]"
   ]
  },
  {
   "cell_type": "code",
   "execution_count": 3,
   "metadata": {},
   "outputs": [],
   "source": [
    "i = 0\n",
    "num_vertex = []\n",
    "num_edge = []\n",
    "for file in files:\n",
    "    try:\n",
    "        matrix = sio.loadmat(file)['Problem'][0][0][1]\n",
    "    except:\n",
    "        continue\n",
    "    if type(matrix).__module__ != 'scipy.sparse.csc':\n",
    "        matrix = sio.loadmat(file)['Problem'][0][0][2]\n",
    "    try:\n",
    "        matrix = np.where(matrix.toarray()==0,0,1)\n",
    "    except:\n",
    "        continue\n",
    "    if not np.array_equal(matrix,matrix.T):\n",
    "        continue\n",
    "    graph = nx.Graph(matrix)\n",
    "    for l in range(matrix.shape[0]):\n",
    "        matrix[l,l] = 0\n",
    "    if nx.is_connected(graph):\n",
    "        np.save(r\"C:\\F\\Work\\Visualization\\real_data\\matrix\"+str(i) ,matrix)\n",
    "        i += 1\n",
    "        num_vertex.append(matrix.shape[0])\n",
    "        num_edge.append(np.sum(matrix)/2)"
   ]
  },
  {
   "cell_type": "code",
   "execution_count": 8,
   "metadata": {},
   "outputs": [],
   "source": [
    "para = np.random.multivariate_normal([np.mean(num_vertex),np.mean(num_edge)],\n",
    "                                             np.cov([num_vertex,num_edge]),size=10000)\n",
    "idx0 = para[:,0] > min(num_vertex)\n",
    "idx1 = para[:,1] > min(num_edge)\n",
    "idx2 = para[:,0] < max(num_vertex)\n",
    "idx3 = para[:,1] < max(num_edge)\n",
    "idx4 = (para[:,1]-(para[:,0]*(para[:,0]-1)/2)) < 0\n",
    "idx = [idx0[i] and idx1[i] and idx2[i] and idx3[i] and idx4[i] for i in range(len(para))]\n",
    "para = np.round(para[idx])"
   ]
  },
  {
   "cell_type": "code",
   "execution_count": null,
   "metadata": {},
   "outputs": [],
   "source": []
  },
  {
   "cell_type": "code",
   "execution_count": 18,
   "metadata": {},
   "outputs": [],
   "source": [
    "from layout import *"
   ]
  },
  {
   "cell_type": "code",
   "execution_count": 14,
   "metadata": {},
   "outputs": [],
   "source": [
    "from knn import * \n",
    "from graphlet import *\n",
    "\n",
    "features = []\n",
    "m = []\n",
    "for n,i in enumerate(para):\n",
    "    matrix = create_matrix(int(i[0]), int(i[1]))\n",
    "    features.append(RW(matrix))\n",
    "    m.append(matrix)\n",
    "    if n%100 == 0:\n",
    "        print(n)\n",
    "\n",
    "features = np.array(features)\n",
    "files_path = r\"C:\\F\\Work\\Visualization\\real_data\"\n",
    "files = [join(files_path,f) for f in listdir(files_path)]\n",
    "\n",
    "for i,f in enumerate(files):\n",
    "    test = np.load(f)\n",
    "    test_feature = RW(test)\n",
    "    idx = knn(features, test_feature)\n",
    "    draw(m[idx], 'estimated_layout_'+str(i), True, None)\n",
    "    draw(test, 'real_layout_'+str(i), True, None)"
   ]
  },
  {
   "cell_type": "code",
   "execution_count": null,
   "metadata": {},
   "outputs": [],
   "source": []
  },
  {
   "cell_type": "code",
   "execution_count": null,
   "metadata": {},
   "outputs": [],
   "source": []
  },
  {
   "cell_type": "code",
   "execution_count": null,
   "metadata": {},
   "outputs": [],
   "source": []
  },
  {
   "cell_type": "code",
   "execution_count": null,
   "metadata": {},
   "outputs": [],
   "source": []
  },
  {
   "cell_type": "code",
   "execution_count": null,
   "metadata": {},
   "outputs": [],
   "source": []
  },
  {
   "cell_type": "code",
   "execution_count": null,
   "metadata": {},
   "outputs": [],
   "source": []
  },
  {
   "cell_type": "code",
   "execution_count": null,
   "metadata": {},
   "outputs": [],
   "source": []
  },
  {
   "cell_type": "code",
   "execution_count": null,
   "metadata": {},
   "outputs": [],
   "source": []
  },
  {
   "cell_type": "code",
   "execution_count": null,
   "metadata": {},
   "outputs": [],
   "source": []
  },
  {
   "cell_type": "code",
   "execution_count": null,
   "metadata": {},
   "outputs": [],
   "source": []
  },
  {
   "cell_type": "code",
   "execution_count": null,
   "metadata": {},
   "outputs": [],
   "source": []
  },
  {
   "cell_type": "code",
   "execution_count": null,
   "metadata": {},
   "outputs": [],
   "source": []
  },
  {
   "cell_type": "code",
   "execution_count": null,
   "metadata": {},
   "outputs": [],
   "source": []
  },
  {
   "cell_type": "code",
   "execution_count": null,
   "metadata": {},
   "outputs": [],
   "source": []
  },
  {
   "cell_type": "code",
   "execution_count": null,
   "metadata": {},
   "outputs": [],
   "source": []
  },
  {
   "cell_type": "code",
   "execution_count": null,
   "metadata": {},
   "outputs": [],
   "source": []
  }
 ],
 "metadata": {
  "kernelspec": {
   "display_name": "Python 3",
   "language": "python",
   "name": "python3"
  },
  "language_info": {
   "codemirror_mode": {
    "name": "ipython",
    "version": 3
   },
   "file_extension": ".py",
   "mimetype": "text/x-python",
   "name": "python",
   "nbconvert_exporter": "python",
   "pygments_lexer": "ipython3",
   "version": "3.6.5"
  }
 },
 "nbformat": 4,
 "nbformat_minor": 2
}
